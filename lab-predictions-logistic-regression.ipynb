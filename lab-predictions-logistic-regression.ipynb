{
 "cells": [
  {
   "cell_type": "code",
   "execution_count": null,
   "id": "07e15091",
   "metadata": {},
   "outputs": [],
   "source": [
    "import pymysql\n",
    "from sqlalchemy import create_engine\n",
    "import pandas as pd\n",
    "import getpass  \n",
    "password = getpass.getpass()"
   ]
  },
  {
   "cell_type": "code",
   "execution_count": null,
   "id": "169d1351",
   "metadata": {},
   "outputs": [],
   "source": [
    "#Create a query or queries to extract the information you think may be relevant for building the prediction model. It should include some film features and some rental features (X)."
   ]
  },
  {
   "cell_type": "code",
   "execution_count": null,
   "id": "76947ea5",
   "metadata": {
    "scrolled": false
   },
   "outputs": [],
   "source": [
    "connection_string = 'mysql+pymysql://root:' + password + '@localhost/sakila'\n",
    "engine = create_engine(connection_string)\n",
    "query =  \"\"\"\n",
    "    SELECT\n",
    "        f.film_id,\n",
    "        f.title,\n",
    "        f.release_year,\n",
    "        f.language_id,\n",
    "        f.rental_duration,\n",
    "        r.rental_date,\n",
    "        r.return_date\n",
    "    FROM\n",
    "        film AS f\n",
    "        INNER JOIN\n",
    "        inventory AS i ON f.film_id = i.film_id\n",
    "    INNER JOIN\n",
    "        rental AS r ON i.inventory_id = r.inventory_id\n",
    "\"\"\"\n",
    "\n",
    "data = pd.read_sql_query(query, engine)\n",
    "data.head()"
   ]
  },
  {
   "cell_type": "code",
   "execution_count": null,
   "id": "16c4f82a",
   "metadata": {},
   "outputs": [],
   "source": [
    "data.shape"
   ]
  },
  {
   "cell_type": "code",
   "execution_count": null,
   "id": "db13414f",
   "metadata": {},
   "outputs": [],
   "source": [
    "data['language_id'].value_counts(dropna=False)"
   ]
  },
  {
   "cell_type": "code",
   "execution_count": null,
   "id": "d1063d0b",
   "metadata": {},
   "outputs": [],
   "source": [
    "#Create a query to get the list of all unique film titles and a boolean indicating if it was rented (rental_date) in May 2005. (Create new column called - 'rented_in_may'). This will be our TARGET (y) variable"
   ]
  },
  {
   "cell_type": "code",
   "execution_count": null,
   "id": "c78f55dc",
   "metadata": {},
   "outputs": [],
   "source": [
    "data['title'].unique()"
   ]
  },
  {
   "cell_type": "code",
   "execution_count": null,
   "id": "84580068",
   "metadata": {},
   "outputs": [],
   "source": [
    "data['rented_in_may'] = data['rental_date'].apply(lambda x: 1 if x.month == 5 and x.year == 2005 else 0)\n"
   ]
  },
  {
   "cell_type": "code",
   "execution_count": null,
   "id": "049c1c54",
   "metadata": {},
   "outputs": [],
   "source": [
    "data.drop(columns=['rental_date'], inplace=True)\n"
   ]
  },
  {
   "cell_type": "code",
   "execution_count": null,
   "id": "ed3b3e74",
   "metadata": {},
   "outputs": [],
   "source": [
    "#Read the data into a Pandas dataframe. At this point you should have 1000 rows. Number of columns depends on the number of features you chose."
   ]
  },
  {
   "cell_type": "code",
   "execution_count": null,
   "id": "f14f3712",
   "metadata": {},
   "outputs": [],
   "source": [
    "data = data.sample(n=1000, random_state=42)\n"
   ]
  },
  {
   "cell_type": "code",
   "execution_count": null,
   "id": "4a222404",
   "metadata": {},
   "outputs": [],
   "source": [
    "#Analyze extracted features (X) and transform them. You may need to encode some categorical variables, or scale numerical variables."
   ]
  },
  {
   "cell_type": "code",
   "execution_count": null,
   "id": "e69ba712",
   "metadata": {},
   "outputs": [],
   "source": [
    "data_encoded = pd.get_dummies(data, columns=['title', 'release_year', 'language_id'])\n"
   ]
  },
  {
   "cell_type": "code",
   "execution_count": null,
   "id": "c3551685",
   "metadata": {},
   "outputs": [],
   "source": [
    "X = data_encoded.drop(columns=['rented_in_may'])\n",
    "y = data_encoded['rented_in_may']"
   ]
  },
  {
   "cell_type": "code",
   "execution_count": null,
   "id": "068a1689",
   "metadata": {},
   "outputs": [],
   "source": [
    "#Create a logistic regression model to predict 'rented_in_may' from the cleaned data."
   ]
  },
  {
   "cell_type": "code",
   "execution_count": null,
   "id": "9bd0d45b",
   "metadata": {},
   "outputs": [],
   "source": [
    "import numpy as np\n",
    "from sklearn.preprocessing import MinMaxScaler\n",
    "# from sklearn.preprocessing import StandardScaler\n",
    "\n",
    "X_train_num = X_train.select_dtypes(include = np.number)\n",
    "X_test_num  = X_test.select_dtypes(include = np.number)\n",
    "\n",
    "# Scaling data\n",
    "transformer = MinMaxScaler().fit(X_train_num) # need to keep transformer\n",
    "\n",
    "X_train_normalized = transformer.transform(X_train_num)\n",
    "X_test_normalized  = transformer.transform(X_test_num)\n",
    "\n",
    "X_train_norm = pd.DataFrame(X_train_normalized, columns=X_train_num.columns)\n",
    "X_test_norm  = pd.DataFrame(X_test_normalized, columns=X_test_num.columns)"
   ]
  },
  {
   "cell_type": "code",
   "execution_count": null,
   "id": "fcd05e0a",
   "metadata": {},
   "outputs": [],
   "source": [
    "y_pred = cross_val_predict(logreg, X, y, cv=5)\n"
   ]
  },
  {
   "cell_type": "code",
   "execution_count": null,
   "id": "42fd1b87",
   "metadata": {},
   "outputs": [],
   "source": []
  }
 ],
 "metadata": {
  "kernelspec": {
   "display_name": "Python 3 (ipykernel)",
   "language": "python",
   "name": "python3"
  },
  "language_info": {
   "codemirror_mode": {
    "name": "ipython",
    "version": 3
   },
   "file_extension": ".py",
   "mimetype": "text/x-python",
   "name": "python",
   "nbconvert_exporter": "python",
   "pygments_lexer": "ipython3",
   "version": "3.10.9"
  }
 },
 "nbformat": 4,
 "nbformat_minor": 5
}
